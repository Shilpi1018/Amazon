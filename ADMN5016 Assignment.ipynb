{
 "cells": [
  {
   "cell_type": "markdown",
   "id": "acf4ae02",
   "metadata": {},
   "source": [
    "# Sentiment Analysis\n"
   ]
  },
  {
   "cell_type": "markdown",
   "id": "4a956af6",
   "metadata": {},
   "source": [
    "### Importing packages and loading data"
   ]
  },
  {
   "cell_type": "code",
   "execution_count": 1,
   "id": "3da4fc41",
   "metadata": {},
   "outputs": [
    {
     "name": "stderr",
     "output_type": "stream",
     "text": [
      "[nltk_data] Downloading package stopwords to\n",
      "[nltk_data]     C:\\Users\\SANG\\AppData\\Roaming\\nltk_data...\n",
      "[nltk_data]   Package stopwords is already up-to-date!\n",
      "[nltk_data] Downloading package punkt to\n",
      "[nltk_data]     C:\\Users\\SANG\\AppData\\Roaming\\nltk_data...\n",
      "[nltk_data]   Package punkt is already up-to-date!\n"
     ]
    }
   ],
   "source": [
    "import pandas as pd\n",
    "import nltk\n",
    "nltk.download('stopwords')\n",
    "nltk.download('punkt')\n",
    "from nltk.corpus import stopwords\n",
    "from nltk.stem import PorterStemmer\n",
    "from nltk.tokenize import word_tokenize\n",
    "from sklearn.model_selection import train_test_split\n",
    "from sklearn.feature_extraction.text import TfidfVectorizer\n",
    "from sklearn.preprocessing import StandardScaler\n",
    "from sklearn.linear_model import LinearRegression\n",
    "from sklearn.ensemble import RandomForestRegressor\n",
    "from sklearn.metrics import mean_squared_error, r2_score\n",
    "import matplotlib.pyplot as plt\n",
    "import seaborn as sns\n",
    "\n",
    "from sklearn.svm import SVR\n",
    "from lightgbm import LGBMRegressor"
   ]
  },
  {
   "cell_type": "markdown",
   "id": "3488bbdf",
   "metadata": {},
   "source": [
    "### Data Loading"
   ]
  },
  {
   "cell_type": "code",
   "execution_count": 2,
   "id": "3a401c02",
   "metadata": {},
   "outputs": [
    {
     "name": "stderr",
     "output_type": "stream",
     "text": [
      "C:\\Users\\SANG\\AppData\\Local\\Temp\\ipykernel_12072\\747423571.py:3: DtypeWarning: Columns (1,10) have mixed types. Specify dtype option on import or set low_memory=False.\n",
      "  Amazon_data= pd.read_csv('1429_1.csv')\n"
     ]
    }
   ],
   "source": [
    "Amazon_Consumer_Reviews1=pd.read_csv('Datafiniti_Amazon_Consumer_Reviews_of_Amazon_Products.csv')\n",
    "Amazon_Consumer_Reviews2= pd.read_csv('Datafiniti_Amazon_Consumer_Reviews_of_Amazon_Products_May19.csv')\n",
    "Amazon_data= pd.read_csv('1429_1.csv')"
   ]
  },
  {
   "cell_type": "code",
   "execution_count": 3,
   "id": "f27e07c2",
   "metadata": {},
   "outputs": [
    {
     "name": "stdout",
     "output_type": "stream",
     "text": [
      "<class 'pandas.core.frame.DataFrame'>\n",
      "RangeIndex: 5000 entries, 0 to 4999\n",
      "Data columns (total 24 columns):\n",
      " #   Column               Non-Null Count  Dtype  \n",
      "---  ------               --------------  -----  \n",
      " 0   id                   5000 non-null   object \n",
      " 1   dateAdded            5000 non-null   object \n",
      " 2   dateUpdated          5000 non-null   object \n",
      " 3   name                 5000 non-null   object \n",
      " 4   asins                5000 non-null   object \n",
      " 5   brand                5000 non-null   object \n",
      " 6   categories           5000 non-null   object \n",
      " 7   primaryCategories    5000 non-null   object \n",
      " 8   imageURLs            5000 non-null   object \n",
      " 9   keys                 5000 non-null   object \n",
      " 10  manufacturer         5000 non-null   object \n",
      " 11  manufacturerNumber   5000 non-null   object \n",
      " 12  reviews.date         5000 non-null   object \n",
      " 13  reviews.dateAdded    1052 non-null   object \n",
      " 14  reviews.dateSeen     5000 non-null   object \n",
      " 15  reviews.doRecommend  5000 non-null   bool   \n",
      " 16  reviews.id           29 non-null     float64\n",
      " 17  reviews.numHelpful   5000 non-null   int64  \n",
      " 18  reviews.rating       5000 non-null   int64  \n",
      " 19  reviews.sourceURLs   5000 non-null   object \n",
      " 20  reviews.text         5000 non-null   object \n",
      " 21  reviews.title        4987 non-null   object \n",
      " 22  reviews.username     5000 non-null   object \n",
      " 23  sourceURLs           5000 non-null   object \n",
      "dtypes: bool(1), float64(1), int64(2), object(20)\n",
      "memory usage: 903.4+ KB\n"
     ]
    }
   ],
   "source": [
    "Amazon_Consumer_Reviews1.info()"
   ]
  },
  {
   "cell_type": "code",
   "execution_count": 4,
   "id": "cf241ad8",
   "metadata": {},
   "outputs": [
    {
     "name": "stdout",
     "output_type": "stream",
     "text": [
      "<class 'pandas.core.frame.DataFrame'>\n",
      "RangeIndex: 28332 entries, 0 to 28331\n",
      "Data columns (total 24 columns):\n",
      " #   Column               Non-Null Count  Dtype  \n",
      "---  ------               --------------  -----  \n",
      " 0   id                   28332 non-null  object \n",
      " 1   dateAdded            28332 non-null  object \n",
      " 2   dateUpdated          28332 non-null  object \n",
      " 3   name                 28332 non-null  object \n",
      " 4   asins                28332 non-null  object \n",
      " 5   brand                28332 non-null  object \n",
      " 6   categories           28332 non-null  object \n",
      " 7   primaryCategories    28332 non-null  object \n",
      " 8   imageURLs            28332 non-null  object \n",
      " 9   keys                 28332 non-null  object \n",
      " 10  manufacturer         28332 non-null  object \n",
      " 11  manufacturerNumber   28332 non-null  object \n",
      " 12  reviews.date         28332 non-null  object \n",
      " 13  reviews.dateSeen     28332 non-null  object \n",
      " 14  reviews.didPurchase  9 non-null      object \n",
      " 15  reviews.doRecommend  16086 non-null  object \n",
      " 16  reviews.id           41 non-null     float64\n",
      " 17  reviews.numHelpful   16115 non-null  float64\n",
      " 18  reviews.rating       28332 non-null  int64  \n",
      " 19  reviews.sourceURLs   28332 non-null  object \n",
      " 20  reviews.text         28332 non-null  object \n",
      " 21  reviews.title        28332 non-null  object \n",
      " 22  reviews.username     28332 non-null  object \n",
      " 23  sourceURLs           28332 non-null  object \n",
      "dtypes: float64(2), int64(1), object(21)\n",
      "memory usage: 5.2+ MB\n"
     ]
    }
   ],
   "source": [
    "Amazon_Consumer_Reviews2.info()"
   ]
  },
  {
   "cell_type": "code",
   "execution_count": 5,
   "id": "e371f1ec",
   "metadata": {},
   "outputs": [
    {
     "name": "stdout",
     "output_type": "stream",
     "text": [
      "<class 'pandas.core.frame.DataFrame'>\n",
      "RangeIndex: 34660 entries, 0 to 34659\n",
      "Data columns (total 21 columns):\n",
      " #   Column                Non-Null Count  Dtype  \n",
      "---  ------                --------------  -----  \n",
      " 0   id                    34660 non-null  object \n",
      " 1   name                  27900 non-null  object \n",
      " 2   asins                 34658 non-null  object \n",
      " 3   brand                 34660 non-null  object \n",
      " 4   categories            34660 non-null  object \n",
      " 5   keys                  34660 non-null  object \n",
      " 6   manufacturer          34660 non-null  object \n",
      " 7   reviews.date          34621 non-null  object \n",
      " 8   reviews.dateAdded     24039 non-null  object \n",
      " 9   reviews.dateSeen      34660 non-null  object \n",
      " 10  reviews.didPurchase   1 non-null      object \n",
      " 11  reviews.doRecommend   34066 non-null  object \n",
      " 12  reviews.id            1 non-null      float64\n",
      " 13  reviews.numHelpful    34131 non-null  float64\n",
      " 14  reviews.rating        34627 non-null  float64\n",
      " 15  reviews.sourceURLs    34660 non-null  object \n",
      " 16  reviews.text          34659 non-null  object \n",
      " 17  reviews.title         34655 non-null  object \n",
      " 18  reviews.userCity      0 non-null      float64\n",
      " 19  reviews.userProvince  0 non-null      float64\n",
      " 20  reviews.username      34658 non-null  object \n",
      "dtypes: float64(5), object(16)\n",
      "memory usage: 5.6+ MB\n"
     ]
    }
   ],
   "source": [
    "Amazon_data.info()"
   ]
  },
  {
   "cell_type": "code",
   "execution_count": 6,
   "id": "ba245286",
   "metadata": {},
   "outputs": [],
   "source": [
    "# Retain the relevant columns for sentiment analysis\n",
    "Amazon_Consumer_Reviews1 = Amazon_Consumer_Reviews1[['reviews.text', 'reviews.rating']]\n",
    "Amazon_Consumer_Reviews2 = Amazon_Consumer_Reviews2[['reviews.text', 'reviews.rating']]\n",
    "Amazon_data = Amazon_data[['reviews.text', 'reviews.rating']]"
   ]
  },
  {
   "cell_type": "code",
   "execution_count": 7,
   "id": "daaff8b9",
   "metadata": {},
   "outputs": [
    {
     "name": "stdout",
     "output_type": "stream",
     "text": [
      "<class 'pandas.core.frame.DataFrame'>\n",
      "RangeIndex: 67992 entries, 0 to 67991\n",
      "Data columns (total 2 columns):\n",
      " #   Column          Non-Null Count  Dtype  \n",
      "---  ------          --------------  -----  \n",
      " 0   reviews.text    67991 non-null  object \n",
      " 1   reviews.rating  67959 non-null  float64\n",
      "dtypes: float64(1), object(1)\n",
      "memory usage: 1.0+ MB\n",
      "None\n"
     ]
    }
   ],
   "source": [
    "# Combine the dataframes into one\n",
    "combined_data = pd.concat([Amazon_Consumer_Reviews1, Amazon_Consumer_Reviews2, Amazon_data], ignore_index=True)\n",
    "\n",
    "# Check the info of the combined dataframe\n",
    "print(combined_data.info())"
   ]
  },
  {
   "cell_type": "markdown",
   "id": "4042b4cf",
   "metadata": {},
   "source": [
    "### Data Preprocessing"
   ]
  },
  {
   "cell_type": "code",
   "execution_count": 8,
   "id": "5b9fddc3",
   "metadata": {},
   "outputs": [],
   "source": [
    "# Function for data preprocessing\n",
    "def preprocess_data(df):\n",
    "    df.dropna(subset=['reviews.text', 'reviews.rating'], inplace=True)\n",
    "    df['reviews.text'] = df['reviews.text'].apply(lambda x: x.lower())\n",
    "    stop_words = set(stopwords.words('english'))\n",
    "    df['reviews.text'] = df['reviews.text'].apply(lambda x: ' '.join([word for word in word_tokenize(x) if word.isalnum() and word not in stop_words]))\n",
    "    stemmer = PorterStemmer()\n",
    "    df['reviews.text'] = df['reviews.text'].apply(lambda x: ' '.join([stemmer.stem(word) for word in word_tokenize(x)]))\n",
    "    return df\n",
    "\n",
    "# Preprocess the data\n",
    "combined_data = preprocess_data(combined_data)"
   ]
  },
  {
   "cell_type": "code",
   "execution_count": 9,
   "id": "bf1ca6b3",
   "metadata": {},
   "outputs": [
    {
     "data": {
      "text/html": [
       "<div>\n",
       "<style scoped>\n",
       "    .dataframe tbody tr th:only-of-type {\n",
       "        vertical-align: middle;\n",
       "    }\n",
       "\n",
       "    .dataframe tbody tr th {\n",
       "        vertical-align: top;\n",
       "    }\n",
       "\n",
       "    .dataframe thead th {\n",
       "        text-align: right;\n",
       "    }\n",
       "</style>\n",
       "<table border=\"1\" class=\"dataframe\">\n",
       "  <thead>\n",
       "    <tr style=\"text-align: right;\">\n",
       "      <th></th>\n",
       "      <th>reviews.text</th>\n",
       "      <th>reviews.rating</th>\n",
       "    </tr>\n",
       "  </thead>\n",
       "  <tbody>\n",
       "    <tr>\n",
       "      <th>0</th>\n",
       "      <td>thought would big small paper turn like palm t...</td>\n",
       "      <td>3.0</td>\n",
       "    </tr>\n",
       "    <tr>\n",
       "      <th>1</th>\n",
       "      <td>kindl light easi use especi beach</td>\n",
       "      <td>5.0</td>\n",
       "    </tr>\n",
       "    <tr>\n",
       "      <th>2</th>\n",
       "      <td>didnt know much use kindl went lower end im ha...</td>\n",
       "      <td>4.0</td>\n",
       "    </tr>\n",
       "    <tr>\n",
       "      <th>3</th>\n",
       "      <td>100 happi purchas caught sale realli good pric...</td>\n",
       "      <td>5.0</td>\n",
       "    </tr>\n",
       "    <tr>\n",
       "      <th>4</th>\n",
       "      <td>solid entri level kindl great kid gift kid fri...</td>\n",
       "      <td>5.0</td>\n",
       "    </tr>\n",
       "    <tr>\n",
       "      <th>...</th>\n",
       "      <td>...</td>\n",
       "      <td>...</td>\n",
       "    </tr>\n",
       "    <tr>\n",
       "      <th>67987</th>\n",
       "      <td>appreci faster higher amp charger use kindl ki...</td>\n",
       "      <td>3.0</td>\n",
       "    </tr>\n",
       "    <tr>\n",
       "      <th>67988</th>\n",
       "      <td>amazon includ charger kindl fact charg us extr...</td>\n",
       "      <td>1.0</td>\n",
       "    </tr>\n",
       "    <tr>\n",
       "      <th>67989</th>\n",
       "      <td>love kindl fire realli disappoint kindl power ...</td>\n",
       "      <td>1.0</td>\n",
       "    </tr>\n",
       "    <tr>\n",
       "      <th>67990</th>\n",
       "      <td>surpris find come type charg cord purchas one ...</td>\n",
       "      <td>1.0</td>\n",
       "    </tr>\n",
       "    <tr>\n",
       "      <th>67991</th>\n",
       "      <td>spite fact noth good thing say amazon anth eve...</td>\n",
       "      <td>1.0</td>\n",
       "    </tr>\n",
       "  </tbody>\n",
       "</table>\n",
       "<p>67958 rows × 2 columns</p>\n",
       "</div>"
      ],
      "text/plain": [
       "                                            reviews.text  reviews.rating\n",
       "0      thought would big small paper turn like palm t...             3.0\n",
       "1                      kindl light easi use especi beach             5.0\n",
       "2      didnt know much use kindl went lower end im ha...             4.0\n",
       "3      100 happi purchas caught sale realli good pric...             5.0\n",
       "4      solid entri level kindl great kid gift kid fri...             5.0\n",
       "...                                                  ...             ...\n",
       "67987  appreci faster higher amp charger use kindl ki...             3.0\n",
       "67988  amazon includ charger kindl fact charg us extr...             1.0\n",
       "67989  love kindl fire realli disappoint kindl power ...             1.0\n",
       "67990  surpris find come type charg cord purchas one ...             1.0\n",
       "67991  spite fact noth good thing say amazon anth eve...             1.0\n",
       "\n",
       "[67958 rows x 2 columns]"
      ]
     },
     "execution_count": 9,
     "metadata": {},
     "output_type": "execute_result"
    }
   ],
   "source": [
    "combined_data"
   ]
  },
  {
   "cell_type": "markdown",
   "id": "efecd851",
   "metadata": {},
   "source": [
    "### Exploratory Data Analysis (EDA)"
   ]
  },
  {
   "cell_type": "code",
   "execution_count": 10,
   "id": "11eddfae",
   "metadata": {},
   "outputs": [
    {
     "data": {
      "image/png": "[encoded data removed]",
      "text/plain": [
       "<Figure size 800x500 with 1 Axes>"
      ]
     },
     "metadata": {},
     "output_type": "display_data"
    }
   ],
   "source": [
    "# Function for EDA\n",
    "def perform_eda(df):\n",
    "    plt.figure(figsize=(8, 5))\n",
    "    sns.countplot(x='reviews.rating', data=df)\n",
    "    plt.title('Distribution of Review Ratings')\n",
    "    plt.xlabel('Review Rating')\n",
    "    plt.ylabel('Count')\n",
    "    plt.show()\n",
    "    \n",
    "# Perform EDA\n",
    "perform_eda(combined_data)"
   ]
  },
  {
   "cell_type": "markdown",
   "id": "406e9294",
   "metadata": {},
   "source": [
    "### Feature Engineering and Selection"
   ]
  },
  {
   "cell_type": "code",
   "execution_count": 11,
   "id": "857393b0",
   "metadata": {},
   "outputs": [],
   "source": [
    "# Split data into features and target\n",
    "X = combined_data['reviews.text']\n",
    "y = combined_data['reviews.rating']"
   ]
  },
  {
   "cell_type": "code",
   "execution_count": 12,
   "id": "87bdd8cc",
   "metadata": {},
   "outputs": [],
   "source": [
    "# Split data into training and testing sets\n",
    "X_train, X_test, y_train, y_test = train_test_split(X, y, test_size=0.2, random_state=42)"
   ]
  },
  {
   "cell_type": "code",
   "execution_count": 13,
   "id": "18089379",
   "metadata": {},
   "outputs": [],
   "source": [
    "# TF-IDF vectorization\n",
    "tfidf_vectorizer = TfidfVectorizer(max_features=5000)\n",
    "X_train_tfidf = tfidf_vectorizer.fit_transform(X_train).toarray()\n",
    "X_test_tfidf = tfidf_vectorizer.transform(X_test).toarray()"
   ]
  },
  {
   "cell_type": "code",
   "execution_count": 14,
   "id": "4dc6cf18",
   "metadata": {},
   "outputs": [],
   "source": [
    "# Standardize the TF-IDF features\n",
    "scaler = StandardScaler()\n",
    "X_train_tfidf_scaled = scaler.fit_transform(X_train_tfidf)\n",
    "X_test_tfidf_scaled = scaler.transform(X_test_tfidf)"
   ]
  },
  {
   "cell_type": "markdown",
   "id": "8ab521f7",
   "metadata": {},
   "source": [
    "### Models"
   ]
  },
  {
   "cell_type": "code",
   "execution_count": 15,
   "id": "351ea809",
   "metadata": {},
   "outputs": [],
   "source": [
    "def train_and_evaluate_model(X_train, X_test, y_train, y_test, model):\n",
    "    model.fit(X_train, y_train)\n",
    "    y_pred = model.predict(X_test)\n",
    "    mse = mean_squared_error(y_test, y_pred)\n",
    "    r2 = r2_score(y_test, y_pred)\n",
    "    return model, mse, r2"
   ]
  },
  {
   "cell_type": "code",
   "execution_count": 16,
   "id": "342f5f10",
   "metadata": {},
   "outputs": [
    {
     "name": "stdout",
     "output_type": "stream",
     "text": [
      "Linear Regression Mean Squared Error: 8.068420579966495e+25\n",
      "Linear Regression R-squared: -1.2206417600618311e+26\n"
     ]
    }
   ],
   "source": [
    "# Train and evaluate the Linear Regression model\n",
    "linear_regression_model, mse_reg, r2_reg = train_and_evaluate_model(X_train_tfidf_scaled, X_test_tfidf_scaled, y_train, y_test, LinearRegression())\n",
    "print(f\"Linear Regression Mean Squared Error: {mse_reg}\")\n",
    "print(f\"Linear Regression R-squared: {r2_reg}\")"
   ]
  },
  {
   "cell_type": "code",
   "execution_count": 20,
   "id": "8f878890",
   "metadata": {},
   "outputs": [
    {
     "name": "stdout",
     "output_type": "stream",
     "text": [
      "[LightGBM] [Info] Total Bins 128733\n",
      "[LightGBM] [Info] Number of data points in the train set: 54366, number of used features: 2002\n",
      "[LightGBM] [Info] Start training from score 4.554961\n",
      "LightGBM Mean Squared Error: 0.4082236619560984\n",
      "LightGBM R-squared: 0.3824133926951945\n"
     ]
    }
   ],
   "source": [
    "linear_regression_model, mse_lgbm, r2_lgbm = train_and_evaluate_model(X_train_tfidf_scaled, X_test_tfidf_scaled, y_train, y_test, LGBMRegressor(force_row_wise= True))\n",
    "print(f\"LightGBM Mean Squared Error: {mse_lgbm}\")\n",
    "print(f\"LightGBM R-squared: {r2_lgbm}\")"
   ]
  }
 ],
 "metadata": {
  "kernelspec": {
   "display_name": "Python 3 (ipykernel)",
   "language": "python",
   "name": "python3"
  },
  "language_info": {
   "codemirror_mode": {
    "name": "ipython",
    "version": 3
   },
   "file_extension": ".py",
   "mimetype": "text/x-python",
   "name": "python",
   "nbconvert_exporter": "python",
   "pygments_lexer": "ipython3",
   "version": "3.9.13"
  }
 },
 "nbformat": 4,
 "nbformat_minor": 5
}
